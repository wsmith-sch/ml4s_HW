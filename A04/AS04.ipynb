{
 "cells": [
  {
   "cell_type": "markdown",
   "metadata": {},
   "source": [
    "# Assignment 4\n",
    "\n",
    "## Wyatt Smith\n",
    "\n",
    "## Physics 494\n",
    "\n",
    "### 1) Generalizing a Convolutional Network\n"
   ]
  },
  {
   "cell_type": "code",
   "execution_count": 3,
   "metadata": {},
   "outputs": [],
   "source": [
    "# %load ./include/header.py\n",
    "import numpy as np\n",
    "import matplotlib.pyplot as plt\n",
    "import sys\n",
    "from tqdm import trange,tqdm\n",
    "sys.path.append('./include')\n",
    "import ml4s\n",
    "%matplotlib inline\n",
    "%config InlineBackend.figure_format = 'retina'\n"
   ]
  },
  {
   "cell_type": "code",
   "execution_count": 4,
   "metadata": {},
   "outputs": [],
   "source": [
    "import tensorflow as tf\n",
    "from tensorflow import keras\n",
    "from tensorflow.keras import layers\n",
    "import datetime"
   ]
  },
  {
   "cell_type": "code",
   "execution_count": 5,
   "metadata": {},
   "outputs": [],
   "source": [
    "# load the data\n",
    "(x_train, y_train), (x_test, y_test) = tf.keras.datasets.mnist.load_data()\n",
    "\n",
    "# determine the properties\n",
    "rows,cols = x_train[0].shape\n",
    "num_classes = 10\n",
    "\n",
    "# reshape and rescale\n",
    "x_train = x_train.reshape(x_train.shape[0], rows*cols).astype('float32')/255\n",
    "x_test = x_test.reshape(x_test.shape[0], rows*cols).astype('float32')/255\n",
    "\n",
    "# use a built-in function to get 1-hot encoding\n",
    "y_train_hot = keras.utils.to_categorical(y_train, num_classes)\n",
    "y_test_hot = keras.utils.to_categorical(y_test, num_classes)"
   ]
  },
  {
   "cell_type": "code",
   "execution_count": 6,
   "metadata": {},
   "outputs": [],
   "source": [
    "def plot_digit_array(x,y, show_prediction=False):\n",
    "    '''Expects a list of digits (x) and associated labels (y)'''\n",
    "    \n",
    "    # determine the number of rows and columns of our image array\n",
    "    num_digits = x.shape[0]\n",
    "    num_cols = int(np.sqrt(num_digits))\n",
    "    num_rows = num_digits//num_cols + 1\n",
    "\n",
    "    fig,ax = plt.subplots(nrows=num_rows,ncols=num_cols,sharex=True,sharey=True,\n",
    "                          figsize=(num_cols,num_rows))\n",
    "    \n",
    "    # plot all the numbers\n",
    "    for i,cax in enumerate(ax.flatten()):\n",
    "        if i < num_digits:\n",
    "            cax.matshow(x[i].reshape(28,28), cmap='binary')\n",
    "            cax.axis('off')\n",
    "            if show_prediction:\n",
    "                cax.text(0.99,0.99,f'{y[i]}',horizontalalignment='right',verticalalignment='top', \n",
    "                         transform=cax.transAxes, fontsize=8, color='r')\n",
    "        else:\n",
    "            cax.axis('off')"
   ]
  },
  {
   "cell_type": "code",
   "execution_count": 7,
   "metadata": {},
   "outputs": [
    {
     "name": "stdout",
     "output_type": "stream",
     "text": [
      "Model: \"sequential\"\n",
      "_________________________________________________________________\n",
      "Layer (type)                 Output Shape              Param #   \n",
      "=================================================================\n",
      "dense (Dense)                (None, 128)               100480    \n",
      "_________________________________________________________________\n",
      "dense_1 (Dense)              (None, 10)                1290      \n",
      "=================================================================\n",
      "Total params: 101,770\n",
      "Trainable params: 101,770\n",
      "Non-trainable params: 0\n",
      "_________________________________________________________________\n"
     ]
    }
   ],
   "source": [
    "model = keras.Sequential(\n",
    "[\n",
    "    layers.Dense(128,input_shape=(rows*cols,),activation='relu'),\n",
    "    layers.Dense(num_classes, activation='softmax')\n",
    "])\n",
    "model.summary()\n",
    "\n",
    "model.compile(loss='categorical_crossentropy', optimizer='adam', metrics=['accuracy'])"
   ]
  },
  {
   "cell_type": "code",
   "execution_count": 8,
   "metadata": {},
   "outputs": [
    {
     "name": "stdout",
     "output_type": "stream",
     "text": [
      "Epoch 1/10\n",
      "1875/1875 [==============================] - 4s 2ms/step - loss: 0.4347 - accuracy: 0.8767 - val_loss: 0.1341 - val_accuracy: 0.9607\n",
      "Epoch 2/10\n",
      "1875/1875 [==============================] - 3s 1ms/step - loss: 0.1254 - accuracy: 0.9637 - val_loss: 0.1086 - val_accuracy: 0.9676\n",
      "Epoch 3/10\n",
      "1875/1875 [==============================] - 3s 1ms/step - loss: 0.0803 - accuracy: 0.9765 - val_loss: 0.0887 - val_accuracy: 0.9734\n",
      "Epoch 4/10\n",
      "1875/1875 [==============================] - 3s 1ms/step - loss: 0.0566 - accuracy: 0.9820 - val_loss: 0.0867 - val_accuracy: 0.9737\n",
      "Epoch 5/10\n",
      "1875/1875 [==============================] - 3s 1ms/step - loss: 0.0440 - accuracy: 0.9863 - val_loss: 0.0803 - val_accuracy: 0.9763\n",
      "Epoch 6/10\n",
      "1875/1875 [==============================] - 3s 1ms/step - loss: 0.0330 - accuracy: 0.9893 - val_loss: 0.0770 - val_accuracy: 0.9771\n",
      "Epoch 7/10\n",
      "1875/1875 [==============================] - 3s 1ms/step - loss: 0.0253 - accuracy: 0.9922 - val_loss: 0.0861 - val_accuracy: 0.9755\n",
      "Epoch 8/10\n",
      "1875/1875 [==============================] - 3s 1ms/step - loss: 0.0212 - accuracy: 0.9933 - val_loss: 0.0832 - val_accuracy: 0.9757\n",
      "Epoch 9/10\n",
      "1875/1875 [==============================] - 3s 1ms/step - loss: 0.0179 - accuracy: 0.9943 - val_loss: 0.0827 - val_accuracy: 0.9775\n",
      "Epoch 10/10\n",
      "1875/1875 [==============================] - 3s 1ms/step - loss: 0.0128 - accuracy: 0.9961 - val_loss: 0.0857 - val_accuracy: 0.9764\n"
     ]
    }
   ],
   "source": [
    "batch_size = 32\n",
    "epochs = 10\n",
    "\n",
    "training = model.fit(x_train,y_train_hot, batch_size=batch_size, epochs=epochs,\n",
    "                     verbose=1, validation_data=(x_test,y_test_hot))"
   ]
  },
  {
   "cell_type": "code",
   "execution_count": 14,
   "metadata": {},
   "outputs": [
    {
     "data": {
      "image/png": "[encoded data removed]",
      "text/plain": [
       "<Figure size 432x288 with 1 Axes>"
      ]
     },
     "metadata": {
      "image/png": {
       "height": 260,
       "width": 263
      },
      "needs_background": "light"
     },
     "output_type": "display_data"
    }
   ],
   "source": [
    "plt.imread(\"./data1/zero.png\")\n",
    "image = plt.imread(\"./data1/zero.png\")\n",
    "norm_image = pnorm(image)\n",
    "plt.imshow(image)\n",
    "plt.show()\n"
   ]
  },
  {
   "cell_type": "code",
   "execution_count": 147,
   "metadata": {},
   "outputs": [],
   "source": [
    "from PIL import Image, ImageOps\n",
    "\n",
    "def norm(file):\n",
    "    img = Image.open(file)\n",
    "    smol = img.resize((28, 28))\n",
    "    smol = ImageOps.grayscale(smol)\n",
    "    scale = np.array(smol, dtype='float32') ## The Type Matters Here!!\n",
    "    scale -= scale.min()\n",
    "    scale /= scale.max()\n",
    "    \n",
    "    final = np.ones((28,28))\n",
    "    final -= scale\n",
    "    \n",
    "    for i in range(28):\n",
    "        for j in range(28):       \n",
    "            if final[i][j] < 0.08:\n",
    "                final[i][j] = 0.0\n",
    "            else:\n",
    "                pass\n",
    "    final /= final.max()\n",
    "    \n",
    "    return final"
   ]
  },
  {
   "cell_type": "code",
   "execution_count": 155,
   "metadata": {},
   "outputs": [
    {
     "data": {
      "text/plain": [
       "<tf.Tensor: shape=(1, 10), dtype=float32, numpy=\n",
       "array([[9.4226021e-01, 3.3159886e-05, 5.6598336e-02, 1.9285508e-04, 6.7203032e-06, 3.2425953e-05, 6.2060835e-08,\n",
       "        3.9703934e-08, 1.1163457e-08, 8.7626465e-04]], dtype=float32)>"
      ]
     },
     "execution_count": 155,
     "metadata": {},
     "output_type": "execute_result"
    }
   ],
   "source": [
    "model(image2.reshape(1,rows*cols))"
   ]
  },
  {
   "cell_type": "code",
   "execution_count": 157,
   "metadata": {},
   "outputs": [],
   "source": [
    "img0 = norm(\"./data1/zero.png\")\n",
    "img1 = norm(\"./data1/one.png\")\n",
    "img2 = norm(\"./data1/two.png\")\n",
    "img3 = norm(\"./data1/three.png\")\n",
    "img4 = norm(\"./data1/four.png\")\n",
    "img5 = norm(\"./data1/five.png\")\n",
    "img6 = norm(\"./data1/six.png\")\n",
    "img7 = norm(\"./data1/seven.png\")\n",
    "img8 = norm(\"./data1/eight.png\")\n",
    "img9 = norm(\"./data1/nine.png\")"
   ]
  },
  {
   "cell_type": "code",
   "execution_count": 160,
   "metadata": {},
   "outputs": [
    {
     "data": {
      "text/plain": [
       "<tf.Tensor: shape=(1, 10), dtype=float32, numpy=\n",
       "array([[2.0003474e-05, 9.6192664e-01, 1.2337525e-02, 3.8419769e-03, 2.3830305e-06, 5.7207416e-03, 1.0608023e-02,\n",
       "        1.8205608e-05, 5.5242139e-03, 4.0239192e-07]], dtype=float32)>"
      ]
     },
     "execution_count": 160,
     "metadata": {},
     "output_type": "execute_result"
    }
   ],
   "source": [
    "model(img1.reshape(1,rows*cols))\n"
   ]
  },
  {
   "cell_type": "code",
   "execution_count": 161,
   "metadata": {},
   "outputs": [
    {
     "data": {
      "text/plain": [
       "<tf.Tensor: shape=(1, 10), dtype=float32, numpy=\n",
       "array([[8.4775183e-06, 1.4451701e-04, 9.9627823e-01, 2.7800517e-04, 2.3760409e-04, 5.2862146e-05, 1.8361749e-05,\n",
       "        8.5423875e-04, 2.1150084e-03, 1.2658236e-05]], dtype=float32)>"
      ]
     },
     "execution_count": 161,
     "metadata": {},
     "output_type": "execute_result"
    }
   ],
   "source": [
    "model(img2.reshape(1,rows*cols))"
   ]
  },
  {
   "cell_type": "code",
   "execution_count": 162,
   "metadata": {},
   "outputs": [
    {
     "data": {
      "text/plain": [
       "<tf.Tensor: shape=(1, 10), dtype=float32, numpy=\n",
       "array([[1.3173549e-04, 7.4923687e-02, 2.1778502e-02, 3.5890087e-01, 4.8232347e-02, 9.6752450e-02, 6.0626331e-05,\n",
       "        1.8683061e-02, 1.4112191e-03, 3.7912554e-01]], dtype=float32)>"
      ]
     },
     "execution_count": 162,
     "metadata": {},
     "output_type": "execute_result"
    }
   ],
   "source": [
    "model(img3.reshape(1,rows*cols))"
   ]
  },
  {
   "cell_type": "code",
   "execution_count": 163,
   "metadata": {},
   "outputs": [
    {
     "data": {
      "text/plain": [
       "<tf.Tensor: shape=(1, 10), dtype=float32, numpy=\n",
       "array([[1.3613504e-12, 1.8145638e-06, 1.6576311e-07, 2.9257719e-05, 9.9932897e-01, 1.4642105e-04, 1.9214036e-10,\n",
       "        3.4599652e-06, 1.9323328e-07, 4.8974773e-04]], dtype=float32)>"
      ]
     },
     "execution_count": 163,
     "metadata": {},
     "output_type": "execute_result"
    }
   ],
   "source": [
    "model(img4.reshape(1,rows*cols))"
   ]
  },
  {
   "cell_type": "code",
   "execution_count": 164,
   "metadata": {},
   "outputs": [
    {
     "data": {
      "text/plain": [
       "<tf.Tensor: shape=(1, 10), dtype=float32, numpy=\n",
       "array([[5.6705920e-12, 2.5291962e-08, 9.7277889e-06, 2.2698255e-02, 1.9717118e-06, 9.7561502e-01, 2.4662489e-07,\n",
       "        1.8675082e-07, 4.1394171e-05, 1.6332377e-03]], dtype=float32)>"
      ]
     },
     "execution_count": 164,
     "metadata": {},
     "output_type": "execute_result"
    }
   ],
   "source": [
    "model(img5.reshape(1,rows*cols))"
   ]
  },
  {
   "cell_type": "code",
   "execution_count": 165,
   "metadata": {},
   "outputs": [
    {
     "data": {
      "text/plain": [
       "<tf.Tensor: shape=(1, 10), dtype=float32, numpy=\n",
       "array([[3.6813048e-04, 1.1136690e-08, 1.2661633e-03, 1.4191218e-06, 1.9013009e-03, 8.9082739e-04, 9.9550676e-01,\n",
       "        1.4964697e-05, 3.5625228e-05, 1.4798777e-05]], dtype=float32)>"
      ]
     },
     "execution_count": 165,
     "metadata": {},
     "output_type": "execute_result"
    }
   ],
   "source": [
    "model(img6.reshape(1,rows*cols))"
   ]
  },
  {
   "cell_type": "code",
   "execution_count": 168,
   "metadata": {},
   "outputs": [
    {
     "data": {
      "text/plain": [
       "<tf.Tensor: shape=(1, 10), dtype=float32, numpy=\n",
       "array([[2.2833872e-05, 4.6973219e-03, 4.5534261e-02, 4.4722017e-02, 5.4885266e-05, 6.8120607e-05, 1.9193633e-06,\n",
       "        6.8943983e-01, 1.5580635e-02, 1.9987828e-01]], dtype=float32)>"
      ]
     },
     "execution_count": 168,
     "metadata": {},
     "output_type": "execute_result"
    }
   ],
   "source": [
    "model(img7.reshape(1,rows*cols))"
   ]
  },
  {
   "cell_type": "code",
   "execution_count": 167,
   "metadata": {},
   "outputs": [
    {
     "data": {
      "text/plain": [
       "<tf.Tensor: shape=(1, 10), dtype=float32, numpy=\n",
       "array([[3.8971286e-04, 5.5609522e-05, 8.5779041e-01, 1.5264069e-02, 2.6348818e-03, 1.4395030e-04, 1.5133622e-05,\n",
       "        1.7220716e-05, 1.2314250e-01, 5.4652872e-04]], dtype=float32)>"
      ]
     },
     "execution_count": 167,
     "metadata": {},
     "output_type": "execute_result"
    }
   ],
   "source": [
    "model(img8.reshape(1,rows*cols))"
   ]
  },
  {
   "cell_type": "code",
   "execution_count": 166,
   "metadata": {},
   "outputs": [
    {
     "data": {
      "text/plain": [
       "<tf.Tensor: shape=(1, 10), dtype=float32, numpy=\n",
       "array([[3.7537649e-09, 8.5980690e-07, 1.2543705e-05, 2.6381348e-04, 9.9948561e-01, 8.1638154e-06, 6.4060307e-10,\n",
       "        9.7181355e-06, 2.1464213e-04, 4.6559694e-06]], dtype=float32)>"
      ]
     },
     "execution_count": 166,
     "metadata": {},
     "output_type": "execute_result"
    }
   ],
   "source": [
    "model(img9.reshape(1,rows*cols))"
   ]
  },
  {
   "cell_type": "markdown",
   "metadata": {},
   "source": [
    "So, it did not like all of my numbers...  \n",
    "\n",
    "I did not have enough time to fix this unfortunately. I spend most of my time on part (a) and, unwisely, working on the final project (before I had this done). For part (a), my original normalizing/rescaling procedure from last time did not work-- it gave me a blank image, I do not know why... talking to some cohorts, they reccommended PIL, so I used that and finally got it working. \n",
    "\n",
    "I got all my data for the final project preprocessed, however. I tend to get obsessive over certain things like thisl ultimately it came to the detriment of this assignment. I did not have time to get a new dataset properly made from my images to retrain. "
   ]
  },
  {
   "cell_type": "markdown",
   "metadata": {},
   "source": [
    "### 2) Final Project\n",
    "\n",
    "We already gave the slide, but here is part of the \"script\" I had prepared in case we missed anything (I think we did): \n",
    "\n",
    ">Slide I What is a Elliptic Curve? \n",
    ">\n",
    ">An Elliptic Curve is a plane curve over some field,  K, satisfying the Weierstrass equation with nonzero determinant (the relevant formula are displayed here). \n",
    "The set of rational points on an elliptic curve along with an additional point at infinity form a group, usually denoted E(Q).\n",
    "The binary operation we use to add points has a nice geometric description-- any two points add to the unique third point collinear to them. \n",
    "Group Structure\n",
    "One of the first things we look at in a group is its structure. \n",
    "It turns out that E(Q) is finitely generated and abelian, so we can decompose it into a free part and and a torsion subgroup, consisting of the elements of infinite and finite order respectively. \n",
    "Relevant features: \n",
    "Some relevant features of an elliptic curve are its rank, the order of its torsion subgroup, and the number of integer points it contains. \n",
    "*Point to these in the equation*\n",
    "The goal of our project is to use Machine learning to predict some of these properties based on a curve’s Weierstrass Coefficients. \n",
    "We plan on predicting the number of integer points minimally, and potentially predicting the torsion order if we have time.\n",
    "Here is a picture of an elliptic curve \n",
    ">\n",
    ">Slide II Procedure: \n",
    ">\n",
    ">We will obtain all our data from the The L-functions and Modular Forms Database, which contains tons of data about different objects arising in number theory, including a huge list of elliptic curves where we know all of the aforementioned invariants. \n",
    "So, from here we will pull our relevant curves and their appropriate label. While the database is expansive, it appears that  there are only enough data points to reliably sample curves with zero or one integral points.\n",
    "For this reason, our model will be a binary classifier, which will take the coefficients as an input, and output a zero or a one. \n",
    "There is one step of preprocessing we will do-- other research looking at this problem have discovered that you can get better accuracies if you instead pass a curve’s Euler Coefficients into the network instead of its Weierstrass Coefficients. \n",
    "This is probably because the Weierstrass Coefficients can take on a large range of values, whereas the Euler Coefficients are generally small integers. \n",
    "We can easily calculate the first hundred or so Euler coefficients quickly  in SageMath, which is like Python but with built-in Number Theory. \n",
    "The exact number of Euler Coefficients we compute will determine the architecture of our network; the existing literature suggests that we should get high accuracy with the first 500 coefficients. \n",
    "One of the papers we cite claims to get accuracies in the high 90s for this problem. They do not disclose their particular architecture, however, so this is something we will play around with. \n",
    ">\n",
    ">References: \n",
    ">\n",
    ">J. H. Silverman and  J. T. Tate, Rational Points on Elliptic Curves, second edition, Undergraduate Texts in  \t\t\tMathematics, 2015. \n",
    ">\n",
    ">K. Ireland and M. Rosen, A Classical Introduction to Modern Number Theory, second edition, Graduate Texts in Mathematics 84, Springer, 1998. \n",
    ">\n",
    ">The LMFDB Collaboration, The L-functions and Modular Forms Database, https://www.lmfdb.org, 2020 \t\t\t [Online, accessed April 7, 2021]. \n",
    ">\n",
    ">Y.-H. He, K.-H. Lee, and T. Oliver, Machine-Learning Arithmetic Curves, arXiv:2012.04084. \n",
    "\n"
   ]
  },
  {
   "cell_type": "code",
   "execution_count": null,
   "metadata": {},
   "outputs": [],
   "source": []
  }
 ],
 "metadata": {
  "kernelspec": {
   "display_name": "Python 3 (ml4s)",
   "language": "python",
   "name": "ml4s"
  },
  "language_info": {
   "codemirror_mode": {
    "name": "ipython",
    "version": 3
   },
   "file_extension": ".py",
   "mimetype": "text/x-python",
   "name": "python",
   "nbconvert_exporter": "python",
   "pygments_lexer": "ipython3",
   "version": "3.7.9"
  }
 },
 "nbformat": 4,
 "nbformat_minor": 4
}
