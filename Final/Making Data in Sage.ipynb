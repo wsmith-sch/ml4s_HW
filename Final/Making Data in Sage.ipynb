{
 "cells": [
  {
   "cell_type": "markdown",
   "metadata": {},
   "source": [
    "First, we define a function to compute the Euler Factors for an EC. The inputs are a curve (which are of their own class in Sage) as well as a number that gives a the range of integers that will be used to find primes. The default parameter here is $542$, as the $100$th prime number is $541$. We compute these using eq 3. "
   ]
  },
  {
   "cell_type": "code",
   "execution_count": 14,
   "metadata": {},
   "outputs": [],
   "source": [
    "\n",
    "def Euler_Factors(E,n = 542):\n",
    "    vL = [] \n",
    "    for p in primes(0,n):\n",
    "        a = p+1-E.Np(p)\n",
    "        vL.append(a)\n",
    "    return vL"
   ]
  },
  {
   "cell_type": "markdown",
   "metadata": {},
   "source": [
    "Then we take in the data from the the LMFDB. I had to rename it from a `.sage` file to a `.py` file to get it to read like this. "
   ]
  },
  {
   "cell_type": "code",
   "execution_count": 3,
   "metadata": {},
   "outputs": [],
   "source": [
    "from rank_zero import data as rank_zero\n",
    "from rank_one import data as rank_one\n"
   ]
  },
  {
   "cell_type": "code",
   "execution_count": 19,
   "metadata": {},
   "outputs": [],
   "source": [
    "from integral_zero import data as integral_zero\n",
    "from integral_one import data as integral_one"
   ]
  },
  {
   "cell_type": "code",
   "execution_count": 3,
   "metadata": {},
   "outputs": [],
   "source": [
    "euler_rank_zero = []\n",
    "for i in range(0,30000):\n",
    "    euler_rank_zero.append(Euler_Factors(EllipticCurve(rank_zero[i])))"
   ]
  },
  {
   "cell_type": "code",
   "execution_count": 4,
   "metadata": {},
   "outputs": [],
   "source": [
    "euler_rank_one = []\n",
    "for i in range(0,30000):\n",
    "    euler_rank_one.append(Euler_Factors(EllipticCurve(rank_one[i])))"
   ]
  },
  {
   "cell_type": "markdown",
   "metadata": {},
   "source": [
    "Here, we label it. "
   ]
  },
  {
   "cell_type": "code",
   "execution_count": 5,
   "metadata": {},
   "outputs": [],
   "source": [
    "labeled_rank_zero = []\n",
    "for v in euler_rank_zero:\n",
    "    labeled_rank_zero.append(v+[0])"
   ]
  },
  {
   "cell_type": "code",
   "execution_count": 6,
   "metadata": {},
   "outputs": [],
   "source": [
    "labeled_rank_one = []\n",
    "for v in euler_rank_one:\n",
    "    labeled_rank_one.append(v+[1])"
   ]
  },
  {
   "cell_type": "code",
   "execution_count": 20,
   "metadata": {},
   "outputs": [],
   "source": [
    "euler_integral_zero = []\n",
    "for i in range(0,10000):\n",
    "    euler_integral_zero.append(Euler_Factors(EllipticCurve(integral_zero[i])))\n",
    "labeled_integral_zero = []\n",
    "for v in euler_integral_zero:\n",
    "    labeled_integral_zero.append(v+[0])"
   ]
  },
  {
   "cell_type": "code",
   "execution_count": 30,
   "metadata": {},
   "outputs": [],
   "source": [
    "euler_integral_one = []\n",
    "for i in range(0,10000):\n",
    "    euler_integral_one.append(Euler_Factors(EllipticCurve(integral_zero[i])))\n",
    "labeled_integral_one = []\n",
    "for v in euler_integral_one:\n",
    "    labeled_integral_one.append(v+[1])"
   ]
  },
  {
   "cell_type": "code",
   "execution_count": 23,
   "metadata": {},
   "outputs": [],
   "source": [
    "import csv"
   ]
  },
  {
   "cell_type": "markdown",
   "metadata": {},
   "source": [
    "Now we write the data to a `.csv` file. "
   ]
  },
  {
   "cell_type": "code",
   "execution_count": 39,
   "metadata": {},
   "outputs": [],
   "source": [
    "import csv\n",
    "writefile = csv.writer(open('rank_zero.csv', 'w'))\n",
    "for i in range(0,len(labeled_rank_zero)): \n",
    "      writefile.writerow(labeled_rank_zero[i])"
   ]
  },
  {
   "cell_type": "code",
   "execution_count": 31,
   "metadata": {},
   "outputs": [
    {
     "ename": "NameError",
     "evalue": "name 'labeled_rank_one' is not defined",
     "output_type": "error",
     "traceback": [
      "\u001b[0;31m---------------------------------------------------------------------------\u001b[0m",
      "\u001b[0;31mNameError\u001b[0m                                 Traceback (most recent call last)",
      "\u001b[0;32m<ipython-input-31-555084f910e4>\u001b[0m in \u001b[0;36m<module>\u001b[0;34m\u001b[0m\n\u001b[1;32m      1\u001b[0m \u001b[0mwritefile2\u001b[0m \u001b[0;34m=\u001b[0m \u001b[0mcsv\u001b[0m\u001b[0;34m.\u001b[0m\u001b[0mwriter\u001b[0m\u001b[0;34m(\u001b[0m\u001b[0mopen\u001b[0m\u001b[0;34m(\u001b[0m\u001b[0;34m'rank_one.csv'\u001b[0m\u001b[0;34m,\u001b[0m \u001b[0;34m'w'\u001b[0m\u001b[0;34m)\u001b[0m\u001b[0;34m)\u001b[0m\u001b[0;34m\u001b[0m\u001b[0;34m\u001b[0m\u001b[0m\n\u001b[0;32m----> 2\u001b[0;31m \u001b[0;32mfor\u001b[0m \u001b[0mi\u001b[0m \u001b[0;32min\u001b[0m \u001b[0mrange\u001b[0m\u001b[0;34m(\u001b[0m\u001b[0mInteger\u001b[0m\u001b[0;34m(\u001b[0m\u001b[0;36m0\u001b[0m\u001b[0;34m)\u001b[0m\u001b[0;34m,\u001b[0m\u001b[0mlen\u001b[0m\u001b[0;34m(\u001b[0m\u001b[0mlabeled_rank_one\u001b[0m\u001b[0;34m)\u001b[0m\u001b[0;34m)\u001b[0m\u001b[0;34m:\u001b[0m\u001b[0;34m\u001b[0m\u001b[0;34m\u001b[0m\u001b[0m\n\u001b[0m\u001b[1;32m      3\u001b[0m       \u001b[0mwritefile2\u001b[0m\u001b[0;34m.\u001b[0m\u001b[0mwriterow\u001b[0m\u001b[0;34m(\u001b[0m\u001b[0mlabeled_rank_one\u001b[0m\u001b[0;34m[\u001b[0m\u001b[0mi\u001b[0m\u001b[0;34m]\u001b[0m\u001b[0;34m)\u001b[0m\u001b[0;34m\u001b[0m\u001b[0;34m\u001b[0m\u001b[0m\n",
      "\u001b[0;31mNameError\u001b[0m: name 'labeled_rank_one' is not defined"
     ]
    }
   ],
   "source": [
    "writefile2 = csv.writer(open('rank_one.csv', 'w'))\n",
    "for i in range(0,len(labeled_rank_one)): \n",
    "      writefile2.writerow(labeled_rank_one[i])"
   ]
  },
  {
   "cell_type": "code",
   "execution_count": 28,
   "metadata": {},
   "outputs": [],
   "source": [
    "writefile4 = csv.writer(open('integral_zero.csv', 'w'))\n",
    "for i in range(0,len(labeled_integral_zero)): \n",
    "      writefile4.writerow(labeled_integral_zero[i])"
   ]
  },
  {
   "cell_type": "code",
   "execution_count": 32,
   "metadata": {},
   "outputs": [],
   "source": [
    "writefile5 = csv.writer(open('integral_one.csv', 'w'))\n",
    "for i in range(0,len(labeled_integral_one)): \n",
    "      writefile5.writerow(labeled_integral_one[i])"
   ]
  },
  {
   "cell_type": "markdown",
   "metadata": {},
   "source": [
    "This was used to test that the data was written properly. Sometimes, it does not write all the data. I don't know why. "
   ]
  },
  {
   "cell_type": "code",
   "execution_count": 44,
   "metadata": {},
   "outputs": [],
   "source": [
    "with open('rank_zero.csv', newline='') as f:\n",
    "    reader = csv.reader(f)\n",
    "    rank_zero_data = list(reader)\n",
    "with open('rank_one.csv', newline='') as f2:\n",
    "    reader2 = csv.reader(f2)\n",
    "    rank_one_data = list(reader2)\n"
   ]
  }
 ],
 "metadata": {
  "kernelspec": {
   "display_name": "SageMath 9.2",
   "language": "sage",
   "name": "sagemath"
  },
  "language_info": {
   "codemirror_mode": {
    "name": "ipython",
    "version": 3
   },
   "file_extension": ".py",
   "mimetype": "text/x-python",
   "name": "python",
   "nbconvert_exporter": "python",
   "pygments_lexer": "ipython3",
   "version": "3.7.7"
  }
 },
 "nbformat": 4,
 "nbformat_minor": 4
}
